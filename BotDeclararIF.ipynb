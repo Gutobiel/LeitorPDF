{
 "cells": [
  {
   "cell_type": "markdown",
   "id": "521cdd3f-f7b5-4222-9a97-5e3d1bbcf00a",
   "metadata": {},
   "source": [
    "#1Abrir o Google\n",
    "#Importar os arquivos das notas de corretagem no colab\n",
    "#Executar o ambiente de execução todo\n",
    "#2.Pesquisar pelo google colab (link colab)\n",
    "#3.Abrir outra aba\n",
    "#4.Entrar no site da btg investimentos\n",
    "#5. Não é possível logar pois precisa do token que é disponibilizado apenas no app celular\n",
    "#6.Entrar na aba das notas e baixar uma por uma separado"
   ]
  },
  {
   "cell_type": "code",
   "execution_count": 22,
   "id": "e5d63ac9-0eda-4838-877c-a91baf1beacb",
   "metadata": {},
   "outputs": [],
   "source": [
    "import pyautogui\n",
    "import time\n",
    "\n",
    "#pyautogui.alert(\"O código vai começar. Não interrompa o mouse nem o teclado!\")\n",
    "pyautogui.PAUSE = 0.5\n",
    "pyautogui.press('win')\n",
    "pyautogui.write ('chrome')\n",
    "pyautogui.press('enter')\n",
    "time.sleep(1)\n",
    "pyautogui.write ('https://colab.research.google.com/drive/1W3au_Ju_-pOM18fd1Y6QKZ5oygVIK6iX')\n",
    "pyautogui.press('enter')\n",
    "time.sleep(5)\n",
    "pyautogui.click(x=15, y=322)\n",
    "pyautogui.hotkey('ctrl', 't')\n",
    "#Logar na conta btg antes de começar o script e deixar personalizado a data das notas\n",
    "\n",
    "#Baixar os arquivos e fazer upload no colab, determinei 5 arquivos em cada loop\n",
    "num_repeticoes = 5\n",
    "\n",
    "# Loop para realizar a tarefa várias vezes\n",
    "for _ in range(num_repeticoes):\n",
    "    time.sleep(2)\n",
    "    # Move o mouse para o proximo pdf\n",
    "    pyautogui.moveTo(x=pyautogui.position().x, y=pyautogui.position().y + 50)\n",
    "    # Clica para baixar\n",
    "    pyautogui.click(x=100, y=200)  # Substitua as coordenadas pelos valores corretos\n",
    "    #Tempo que leva para baixar o arquivo\n",
    "    time.sleep(2)\n",
    "    pyautogui.press('win')\n",
    "    pyautogui.write('C:\\Users\\augusto.santos\\Downloads')\n",
    "    pyautogui.press('enter')\n",
    "    pyautogui.moveTo(x=306, y=293)\n",
    "    pyautogui.mouseDown()\n",
    "    pyautogui.moveTo(x=134, y=435)\n",
    "    pyautogui.hotkey('alt', 'tab')\n",
    "    pyautogui.mouseUp()\n",
    "\n",
    "\n",
    "\n",
    "\n",
    "\n",
    "pyautogui.alert(\"O código acabou!\")"
   ]
  },
  {
   "cell_type": "code",
   "execution_count": 6,
   "id": "a2a4594d-fde3-42a2-91fd-c1222049605f",
   "metadata": {},
   "outputs": [
    {
     "data": {
      "text/plain": [
       "'aaa'"
      ]
     },
     "execution_count": 6,
     "metadata": {},
     "output_type": "execute_result"
    }
   ],
   "source": [
    "pyautogui.alert('This is an alert box.')\n",
    "pyautogui.confirm('Shall I proceed?')\n",
    "pyautogui.confirm('Enter option.', buttons=['A', 'B', 'C'])\n",
    "pyautogui.prompt('What is your name?')\n",
    "pyautogui.password('Enter password (text will be hidden)')"
   ]
  },
  {
   "cell_type": "code",
   "execution_count": 25,
   "id": "30c67abd-0e15-4c47-aba8-dc2a50a1141f",
   "metadata": {},
   "outputs": [
    {
     "name": "stdout",
     "output_type": "stream",
     "text": [
      "Point(x=306, y=293)\n"
     ]
    }
   ],
   "source": [
    "time.sleep(5)\n",
    "print(pyautogui.position())"
   ]
  },
  {
   "cell_type": "code",
   "execution_count": 33,
   "id": "15f6642a-7000-4f20-bda2-8a212a7aacdf",
   "metadata": {},
   "outputs": [],
   "source": [
    "    #pyautogui.PAUSE = 0.5\n",
    "    #pyautogui.press('win')\n",
    "    #pyautogui.write('Downloads')\n",
    "   # pyautogui.press('enter')\n",
    "    time.sleep(2)\n",
    "    pyautogui.moveTo(x=306, y=293)\n",
    "    pyautogui.mouseDown()\n",
    "    pyautogui.moveTo(x=134, y=435)\n",
    "    pyautogui.hotkey('alt', 'tab')\n",
    "    time.sleep(5)\n",
    "    pyautogui.mouseUp()"
   ]
  },
  {
   "cell_type": "code",
   "execution_count": 34,
   "id": "0ff5f45f-e0cd-4295-9d4f-d22149577817",
   "metadata": {},
   "outputs": [],
   "source": [
    "pyautogui.hotkey('alt','tab')"
   ]
  },
  {
   "cell_type": "code",
   "execution_count": null,
   "id": "0dea260a-99c1-4742-a31a-163195c0500d",
   "metadata": {},
   "outputs": [],
   "source": []
  }
 ],
 "metadata": {
  "kernelspec": {
   "display_name": "Python 3 (ipykernel)",
   "language": "python",
   "name": "python3"
  },
  "language_info": {
   "codemirror_mode": {
    "name": "ipython",
    "version": 3
   },
   "file_extension": ".py",
   "mimetype": "text/x-python",
   "name": "python",
   "nbconvert_exporter": "python",
   "pygments_lexer": "ipython3",
   "version": "3.12.0"
  }
 },
 "nbformat": 4,
 "nbformat_minor": 5
}
