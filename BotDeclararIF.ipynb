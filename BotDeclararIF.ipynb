{
 "cells": [
  {
   "cell_type": "markdown",
   "id": "521cdd3f-f7b5-4222-9a97-5e3d1bbcf00a",
   "metadata": {},
   "source": [
    "#1Abrir o Google\n",
    "#Importar os arquivos das notas de corretagem no colab\n",
    "#Executar o ambiente de execução todo\n",
    "#2.Pesquisar pelo google colab (link colab)\n",
    "#3.Abrir outra aba\n",
    "#4.Entrar no site da btg investimentos\n",
    "#5. Não é possível logar pois precisa do token que é disponibilizado apenas no app celular\n",
    "#6.Entrar na aba das notas e baixar uma por uma separado"
   ]
  },
  {
   "cell_type": "code",
   "execution_count": 56,
   "id": "53153572-2ee2-496d-beb9-2f3c1abd3510",
   "metadata": {},
   "outputs": [],
   "source": []
  },
  {
   "cell_type": "code",
   "execution_count": 77,
   "id": "9aa62bef-bdf5-4925-9729-0e9e4dac264c",
   "metadata": {},
   "outputs": [],
   "source": [
    "#Logar na conta btg antes de começar e deixar na aba de notas de corretagem\n",
    "import pyautogui\n",
    "import time\n",
    "\n",
    "pyautogui.alert(\"O código vai começar. Não interrompa o mouse nem o teclado!\")\n",
    "time.sleep(3)\n",
    "pyautogui.PAUSE = 1\n",
    "pyautogui.hotkey('alt', 'tab')\n",
    "pyautogui.hotkey('ctrl', 't')\n",
    "pyautogui.write ('https://colab.research.google.com/drive/1W3au_Ju_-pOM18fd1Y6QKZ5oygVIK6iX')\n",
    "pyautogui.press('enter')\n",
    "time.sleep(6)\n",
    "pyautogui.click(x=15, y=322)\n",
    "pyautogui.hotkey('ctrl', 'tab')\n",
    "\n",
    "pyautogui.scroll(-180)\n",
    "time.sleep(2)\n",
    "pyautogui.click(x=1204, y=668)\n",
    "time.sleep(3)\n",
    "pyautogui.hotkey('ctrl', 'tab')\n",
    "time.sleep(2)\n",
    "pyautogui.press('win')\n",
    "pyautogui.write('Explorador de Arquivos')\n",
    "pyautogui.press('enter')\n",
    "time.sleep(3)\n",
    "pyautogui.click(x=-1286, y=311)\n",
    "time.sleep(2)\n",
    "pyautogui.moveTo(x=-1185, y=197)\n",
    "pyautogui.mouseDown()\n",
    "pyautogui.moveTo(x=-593, y=325)\n",
    "pyautogui.mouseUp()\n",
    "time.sleep(2)\n",
    "pyautogui.moveTo(x=-593, y=325)\n",
    "pyautogui.mouseDown()\n",
    "pyautogui.moveTo(x=137, y=519)\n",
    "pyautogui.mouseUp()\n",
    "time.sleep(2)\n",
    "\n",
    "\n",
    "#Desce para o próximo download\n",
    "#pyautogui.scroll(-80"
   ]
  },
  {
   "cell_type": "code",
   "execution_count": 57,
   "id": "209eb57f-14ea-4bbc-8fde-ab5a2fecfcab",
   "metadata": {},
   "outputs": [],
   "source": [
    "pyautogui.click(x=-1286, y=311)\n",
    "pyautogui.moveTo(x=-1142, y=199)\n",
    "pyautogui.mouseDown()\n",
    "pyautogui.moveTo(x=136, y=551)\n",
    "pyautogui.hotket('ctrl','tab')\n",
    "pyautogui.mouseUp()"
   ]
  },
  {
   "cell_type": "code",
   "execution_count": 16,
   "id": "54022f5f-d014-4db9-9397-49bf23e52927",
   "metadata": {},
   "outputs": [
    {
     "ename": "IndentationError",
     "evalue": "unexpected indent (3651090431.py, line 2)",
     "output_type": "error",
     "traceback": [
      "\u001b[1;36m  Cell \u001b[1;32mIn[16], line 2\u001b[1;36m\u001b[0m\n\u001b[1;33m    pyautogui.scroll(-50)\u001b[0m\n\u001b[1;37m    ^\u001b[0m\n\u001b[1;31mIndentationError\u001b[0m\u001b[1;31m:\u001b[0m unexpected indent\n"
     ]
    }
   ],
   "source": [
    "\n",
    "# Move o mouse para o proximo pdf\n",
    "    pyautogui.moveTo(x=pyautogui.position().x, y=pyautogui.position().y + 50)\n",
    "    # Clica para baixar\n",
    "    pyautogui.click(x=100, y=200)  # Substitua as coordenadas pelos valores corretos"
   ]
  },
  {
   "cell_type": "code",
   "execution_count": 1,
   "id": "e5d63ac9-0eda-4838-877c-a91baf1beacb",
   "metadata": {},
   "outputs": [
    {
     "data": {
      "text/plain": [
       "'OK'"
      ]
     },
     "execution_count": 1,
     "metadata": {},
     "output_type": "execute_result"
    }
   ],
   "source": [
    "\n",
    "\n",
    "#Baixar os arquivos e fazer upload no colab.\n",
    "num_repeticoes = 1 #determina qntd loop\n",
    "\n",
    "# Loop para realizar a tarefa várias vezes\n",
    "for _ in range(num_repeticoes):\n",
    "    time.sleep(2)\n",
    "    # Move o mouse para o proximo pdf\n",
    "    pyautogui.moveTo(x=pyautogui.position().x, y=pyautogui.position().y + 50)\n",
    "    # Clica para baixar\n",
    "    pyautogui.click(x=100, y=200)  # Substitua as coordenadas pelos valores corretos\n",
    "    #Tempo que leva para baixar o arquivo\n",
    "    time.sleep(2)\n",
    "    pyautogui.press('win')\n",
    "    pyautogui.write('Downloads')\n",
    "    pyautogui.press('enter')\n",
    "    pyautogui.moveTo(x=306, y=293)\n",
    "    pyautogui.mouseDown()\n",
    "    pyautogui.moveTo(x=134, y=435)\n",
    "    pyautogui.hotkey('alt', 'tab')\n",
    "    pyautogui.mouseUp()\n",
    "    pyautogui.press('win')\n",
    "    pyautogui.write('Downloads')\n",
    "    pyautogui.press('enter')\n",
    "    time.sleep(2)\n",
    "    pyautogui.moveTo(x=306, y=293)\n",
    "    pyautogui.mouseDown()\n",
    "    pyautogui.moveTo(x=134, y=435)\n",
    "    pyautogui.hotkey('alt', 'tab')\n",
    "    time.sleep(2)\n",
    "    pyautogui.mouseUp()\n",
    "    \n",
    "#Para voltar a página do colab\n",
    "pyautogui.hotkey('ctrl', 't')\n",
    "#É HORA DE RODAR O COLAB E MANDAR PRO PLANILHAS\n",
    "\n",
    "for _ in range(num_repeticoes):\n",
    "    pyautogui.scroll(-30)\n",
    "    #Copiar nome do pdf e mudar no codigo para rodar\n",
    "    pyautogui.click(x=535, y=517 + 10, clicks=2)\n",
    "    pyautogui.hotkey('ctrl', 'c')\n",
    "    pyautogui.click(x=535, y=517, clicks=2)\n",
    "    pyautogui.hotkey('ctrl', 'v')\n",
    "    #Rodar o codigo inteiro\n",
    "    pyautogui.click(x=257, y=155)\n",
    "    pyautogui.click(x=253, y=184)\n",
    "    time.sleep(20)\n",
    "    #OU\n",
    "    #pyautogui.hotkey('ctrl', 'F9')\n",
    "\n",
    "\n",
    "pyautogui.alert(\"O código acabou!\")"
   ]
  },
  {
   "cell_type": "code",
   "execution_count": 74,
   "id": "30c67abd-0e15-4c47-aba8-dc2a50a1141f",
   "metadata": {},
   "outputs": [
    {
     "name": "stdout",
     "output_type": "stream",
     "text": [
      "Point(x=137, y=519)\n"
     ]
    }
   ],
   "source": [
    "#Saber a posição da sta do mouse na tela\n",
    "time.sleep(5)\n",
    "print(pyautogui.position())"
   ]
  },
  {
   "cell_type": "code",
   "execution_count": 6,
   "id": "a2a4594d-fde3-42a2-91fd-c1222049605f",
   "metadata": {},
   "outputs": [
    {
     "data": {
      "text/plain": [
       "'aaa'"
      ]
     },
     "execution_count": 6,
     "metadata": {},
     "output_type": "execute_result"
    }
   ],
   "source": [
    "pyautogui.alert('This is an alert box.')\n",
    "pyautogui.confirm('Shall I proceed?')\n",
    "pyautogui.confirm('Enter option.', buttons=['A', 'B', 'C'])\n",
    "pyautogui.prompt('What is your name?')\n",
    "pyautogui.password('Enter password (text will be hidden)')"
   ]
  }
 ],
 "metadata": {
  "kernelspec": {
   "display_name": "Python 3 (ipykernel)",
   "language": "python",
   "name": "python3"
  },
  "language_info": {
   "codemirror_mode": {
    "name": "ipython",
    "version": 3
   },
   "file_extension": ".py",
   "mimetype": "text/x-python",
   "name": "python",
   "nbconvert_exporter": "python",
   "pygments_lexer": "ipython3",
   "version": "3.12.0"
  }
 },
 "nbformat": 4,
 "nbformat_minor": 5
}
