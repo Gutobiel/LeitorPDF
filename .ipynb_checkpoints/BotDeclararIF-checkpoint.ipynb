{
 "cells": [
  {
   "cell_type": "markdown",
   "id": "16793369-2f56-4d8b-84f0-6728a7a0da09",
   "metadata": {},
   "source": [
    "#1.Abrir o Google\n",
    "#2.Pesquisar pelo google colab (https://colab.research.google.com/drive/1W3au_Ju_-pOM18fd1Y6QKZ5oygVIK6iX?authuser=0#scrollTo=-IpXWzJJ-JVD)\n",
    "#3.Abrir outra aba\n",
    "#4.Entrar no site da btg investimentos\n",
    "#5.Logar \n",
    "#6.Entrar na aba das notas e baixar uma por uma separado\n",
    "#Importar os arquivos das notas de corretagem no colab\n",
    "#Executar o ambiente de execução todo"
   ]
  },
  {
   "cell_type": "code",
   "execution_count": 6,
   "id": "4afc90d8-41c8-4444-bf75-37127e276d97",
   "metadata": {},
   "outputs": [],
   "source": [
    "import pyautogui\n",
    "import time\n",
    "\n",
    "#pyautogui.alert(\"O código vai começar. Não interrompa o mouse nem o teclado!\")\n",
    "pyautogui.PAUSE = 0.5\n",
    "pyautogui.press('win')\n",
    "pyautogui.write ('chrome')\n",
    "pyautogui.press('enter')\n",
    "time.sleep(1)"
   ]
  },
  {
   "cell_type": "code",
   "execution_count": 7,
   "id": "a2a4594d-fde3-42a2-91fd-c1222049605f",
   "metadata": {},
   "outputs": [
    {
     "data": {
      "text/plain": [
       "'tttttt'"
      ]
     },
     "execution_count": 7,
     "metadata": {},
     "output_type": "execute_result"
    }
   ],
   "source": [
    "pyautogui.alert('This is an alert box.')\n",
    "pyautogui.confirm('Shall I proceed?')\n",
    "pyautogui.confirm('Enter option.', buttons=['A', 'B', 'C'])\n",
    "pyautogui.prompt('What is your name?')a\n",
    "pyautogui.password('Enter password (text will be hidden)')"
   ]
  },
  {
   "cell_type": "code",
   "execution_count": null,
   "id": "98acb9fa-6ac9-4593-8dfb-df1addb15006",
   "metadata": {},
   "outputs": [],
   "source": []
  }
 ],
 "metadata": {
  "kernelspec": {
   "display_name": "Python 3 (ipykernel)",
   "language": "python",
   "name": "python3"
  },
  "language_info": {
   "codemirror_mode": {
    "name": "ipython",
    "version": 3
   },
   "file_extension": ".py",
   "mimetype": "text/x-python",
   "name": "python",
   "nbconvert_exporter": "python",
   "pygments_lexer": "ipython3",
   "version": "3.12.0"
  }
 },
 "nbformat": 4,
 "nbformat_minor": 5
}
